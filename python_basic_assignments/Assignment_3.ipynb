{
 "cells": [
  {
   "cell_type": "code",
   "execution_count": null,
   "metadata": {},
   "outputs": [],
   "source": []
  },
  {
   "cell_type": "code",
   "execution_count": null,
   "metadata": {},
   "outputs": [],
   "source": []
  },
  {
   "cell_type": "markdown",
   "metadata": {},
   "source": [
    "# 2. When does the code in a function run: when it's specified or when it's called?"
   ]
  },
  {
   "cell_type": "code",
   "execution_count": null,
   "metadata": {},
   "outputs": [],
   "source": [
    "function code will run only when it is called , below sum_values function code will run when it is called"
   ]
  },
  {
   "cell_type": "code",
   "execution_count": 2,
   "metadata": {},
   "outputs": [
    {
     "name": "stdout",
     "output_type": "stream",
     "text": [
      "7\n"
     ]
    }
   ],
   "source": [
    "def sum_values(a,b):\n",
    "    print(a+b)\n",
    "\n",
    "sum_values(3,4)"
   ]
  },
  {
   "cell_type": "markdown",
   "metadata": {},
   "source": [
    "# 3. What statement causes a feature to be created?"
   ]
  },
  {
   "cell_type": "code",
   "execution_count": null,
   "metadata": {},
   "outputs": [],
   "source": []
  },
  {
   "cell_type": "markdown",
   "metadata": {},
   "source": [
    "# 4. What is the distinction between a function and a call to a function?\n"
   ]
  },
  {
   "cell_type": "code",
   "execution_count": null,
   "metadata": {},
   "outputs": [],
   "source": [
    "Difference between the function and function call is, \n",
    "A function is procedure to achieve a particular result while function call is using \n",
    "this function to achive that task."
   ]
  },
  {
   "cell_type": "markdown",
   "metadata": {},
   "source": [
    "# 5. In a Python application, how many global scopes are there? How many local scopes are there?"
   ]
  },
  {
   "cell_type": "code",
   "execution_count": null,
   "metadata": {},
   "outputs": [],
   "source": [
    "There's only one global Python scope per program execution. \n",
    "This scope remains in existence until the program terminates and all its names are forgotten. \n",
    "Otherwise, the next time when the program is  run,\n",
    "the names would remember their values from the previous run\n",
    "\n",
    "\n",
    "There can be multiple local scopes "
   ]
  },
  {
   "cell_type": "markdown",
   "metadata": {},
   "source": [
    "# 6. When a function call returns, what happens to variables in the local scope?"
   ]
  },
  {
   "cell_type": "code",
   "execution_count": null,
   "metadata": {},
   "outputs": [],
   "source": [
    "variables in the local scope will not exist anymore when function call returns, \n",
    "in the below example local variables c and d will not exist after the function call returns "
   ]
  },
  {
   "cell_type": "code",
   "execution_count": 19,
   "metadata": {},
   "outputs": [
    {
     "name": "stdout",
     "output_type": "stream",
     "text": [
      "7\n",
      "3\n",
      "0\n",
      "1\n"
     ]
    },
    {
     "ename": "NameError",
     "evalue": "name 'c' is not defined",
     "output_type": "error",
     "traceback": [
      "\u001b[0;31m---------------------------------------------------------------------------\u001b[0m",
      "\u001b[0;31mNameError\u001b[0m                                 Traceback (most recent call last)",
      "\u001b[0;32m<ipython-input-19-dd4423bcb307>\u001b[0m in \u001b[0;36m<module>\u001b[0;34m\u001b[0m\n\u001b[1;32m     20\u001b[0m \u001b[0;34m\u001b[0m\u001b[0m\n\u001b[1;32m     21\u001b[0m \u001b[0;31m# c and d don't exist anymore -- these statements will give us name errors!\u001b[0m\u001b[0;34m\u001b[0m\u001b[0;34m\u001b[0m\u001b[0;34m\u001b[0m\u001b[0m\n\u001b[0;32m---> 22\u001b[0;31m \u001b[0mprint\u001b[0m\u001b[0;34m(\u001b[0m\u001b[0mc\u001b[0m\u001b[0;34m)\u001b[0m\u001b[0;34m\u001b[0m\u001b[0;34m\u001b[0m\u001b[0m\n\u001b[0m\u001b[1;32m     23\u001b[0m \u001b[0mprint\u001b[0m\u001b[0;34m(\u001b[0m\u001b[0md\u001b[0m\u001b[0;34m)\u001b[0m\u001b[0;34m\u001b[0m\u001b[0;34m\u001b[0m\u001b[0m\n",
      "\u001b[0;31mNameError\u001b[0m: name 'c' is not defined"
     ]
    }
   ],
   "source": [
    "# This is a global variable\n",
    "a = 0\n",
    "\n",
    "if a == 0:\n",
    "    # This is still a global variable\n",
    "    b = 1\n",
    "\n",
    "def my_function(c):\n",
    "    # this is a local variable\n",
    "    d = 3\n",
    "    print(c)\n",
    "    print(d)\n",
    "\n",
    "# Now we call the function, passing the value 7 as the first and only parameter\n",
    "my_function(7)\n",
    "\n",
    "# a and b still exist\n",
    "print(a)\n",
    "print(b)\n",
    "\n",
    "# c and d don't exist anymore -- these statements will give us name errors!\n",
    "print(c)\n",
    "print(d)\n"
   ]
  },
  {
   "cell_type": "markdown",
   "metadata": {},
   "source": [
    "# 7. What is the concept of a return value? Is it possible to have a return value in an expression?\n"
   ]
  },
  {
   "cell_type": "code",
   "execution_count": null,
   "metadata": {},
   "outputs": [],
   "source": [
    "A function takes arguments (if any), performs some operations, and returns a value (or object). \n",
    "The value that a function returns to the caller is generally known as the function's return value. \n",
    "All Python functions have a return value, either explicit or implicit\n",
    "\n",
    "Yes it is possible to return value in an expression , in the below example returning the sum of c and d local variable\n",
    "as a expression"
   ]
  },
  {
   "cell_type": "code",
   "execution_count": 20,
   "metadata": {},
   "outputs": [
    {
     "name": "stdout",
     "output_type": "stream",
     "text": [
      "7\n"
     ]
    }
   ],
   "source": [
    "\n",
    "def my_function(c):\n",
    "    # this is a local variable\n",
    "    d = 3\n",
    "    return (c+d)\n",
    "print(my_function(4))"
   ]
  },
  {
   "cell_type": "markdown",
   "metadata": {},
   "source": [
    "# 8. What is the return value of a call to a function that does not have a return statement?\n"
   ]
  },
  {
   "cell_type": "code",
   "execution_count": null,
   "metadata": {},
   "outputs": [],
   "source": [
    "There are two types of return statements implicit and explicit return statements.\n",
    "A Python function will always have a return value.\n",
    "There is no notion of procedure or routine in Python. \n",
    "So, if one don’t explicitly use a return value in a return statement, \n",
    "or if one totally omit the return statement, then Python will implicitly \n",
    "return a default value for you. That default return value will always be None.\n",
    "\n",
    "in the below examples did not return any value hence the return value of call to a function is None"
   ]
  },
  {
   "cell_type": "code",
   "execution_count": 21,
   "metadata": {},
   "outputs": [
    {
     "name": "stdout",
     "output_type": "stream",
     "text": [
      "None\n"
     ]
    }
   ],
   "source": [
    "def my_function(c):\n",
    "    # this is a local variable\n",
    "    d = 3\n",
    "    #return (c+d)\n",
    "print(my_function(4))"
   ]
  },
  {
   "cell_type": "code",
   "execution_count": 23,
   "metadata": {},
   "outputs": [
    {
     "name": "stdout",
     "output_type": "stream",
     "text": [
      "None\n"
     ]
    }
   ],
   "source": [
    "def my_function():\n",
    "    # this is a local variable\n",
    "    d = 3\n",
    "    #return (c+d)\n",
    "print(my_function())"
   ]
  },
  {
   "cell_type": "markdown",
   "metadata": {},
   "source": [
    "# 9. How do you make a function variable refer to the global variable?"
   ]
  },
  {
   "cell_type": "code",
   "execution_count": null,
   "metadata": {},
   "outputs": [],
   "source": [
    "If one want to refer to a global variable in a function, \n",
    "can use the global keyword to declare which variables are global"
   ]
  },
  {
   "cell_type": "code",
   "execution_count": 25,
   "metadata": {},
   "outputs": [],
   "source": [
    "a = 10\n",
    "\n",
    "def sum_value(d):\n",
    "    global a \n",
    "    a = d\n",
    "    print(a)\n"
   ]
  },
  {
   "cell_type": "code",
   "execution_count": 26,
   "metadata": {},
   "outputs": [
    {
     "name": "stdout",
     "output_type": "stream",
     "text": [
      "5\n"
     ]
    }
   ],
   "source": [
    "sum_value(5)"
   ]
  },
  {
   "cell_type": "markdown",
   "metadata": {},
   "source": [
    "# 10. What data form does None belong to?\n"
   ]
  },
  {
   "cell_type": "code",
   "execution_count": null,
   "metadata": {},
   "outputs": [],
   "source": [
    "None is a data type of its own (NoneType), The None keyword is used to define a null value, or no value at all."
   ]
  },
  {
   "cell_type": "markdown",
   "metadata": {},
   "source": [
    "# 11. What does the sentence import areallyourpetsnamederic do?\n"
   ]
  },
  {
   "cell_type": "code",
   "execution_count": 27,
   "metadata": {},
   "outputs": [
    {
     "ename": "ModuleNotFoundError",
     "evalue": "No module named 'areallyourpetsnamederic'",
     "output_type": "error",
     "traceback": [
      "\u001b[0;31m---------------------------------------------------------------------------\u001b[0m",
      "\u001b[0;31mModuleNotFoundError\u001b[0m                       Traceback (most recent call last)",
      "\u001b[0;32m<ipython-input-27-b1ea9cb2228f>\u001b[0m in \u001b[0;36m<module>\u001b[0;34m\u001b[0m\n\u001b[0;32m----> 1\u001b[0;31m \u001b[0;32mimport\u001b[0m \u001b[0mareallyourpetsnamederic\u001b[0m\u001b[0;34m\u001b[0m\u001b[0;34m\u001b[0m\u001b[0m\n\u001b[0m",
      "\u001b[0;31mModuleNotFoundError\u001b[0m: No module named 'areallyourpetsnamederic'"
     ]
    }
   ],
   "source": [
    "import areallyourpetsnamederic"
   ]
  },
  {
   "cell_type": "code",
   "execution_count": null,
   "metadata": {},
   "outputs": [],
   "source": [
    "As per  this import areallyourpetsnamederic is valid  syntax to import a module ,\n",
    "but areallyourpetsnamederic is not a real python module"
   ]
  },
  {
   "cell_type": "markdown",
   "metadata": {},
   "source": [
    "# 12. If you had a bacon() feature in a spam module, what would you call it after importing spam?\n"
   ]
  },
  {
   "cell_type": "code",
   "execution_count": null,
   "metadata": {},
   "outputs": [],
   "source": [
    "First we have to import bacon function/feauture from spam module and use or call it later\n",
    "\n",
    "from spam import bacon\n",
    "bacon()"
   ]
  },
  {
   "cell_type": "markdown",
   "metadata": {},
   "source": [
    "# 13. What can you do to save a programme from crashing if it encounters an error?\n"
   ]
  },
  {
   "cell_type": "code",
   "execution_count": null,
   "metadata": {},
   "outputs": [],
   "source": [
    "I will use exceptional handling concept when i want to save programme from crashing if it encounters an error\n",
    "\n",
    "In the below example a is not defined so while program execution handled the error and program execution didnot stop"
   ]
  },
  {
   "cell_type": "code",
   "execution_count": 3,
   "metadata": {},
   "outputs": [
    {
     "name": "stdout",
     "output_type": "stream",
     "text": [
      "a is not defined in the program\n",
      "Hello all\n"
     ]
    }
   ],
   "source": [
    "try:\n",
    "    if a == 10:\n",
    "        print('{} is equal to 10'.format(a))\n",
    "    else:\n",
    "        print(\"a is not equal to 10\")\n",
    "except:\n",
    "    print(\"a is not defined in the program\")\n",
    "\n",
    "print(\"Hello all\")"
   ]
  },
  {
   "cell_type": "markdown",
   "metadata": {},
   "source": [
    "# 14. What is the purpose of the try clause? What is the purpose of the except clause?"
   ]
  },
  {
   "cell_type": "code",
   "execution_count": null,
   "metadata": {},
   "outputs": [],
   "source": [
    "try clasue is used to write code which we think an exception or error might occur during the runtime\n",
    "\n",
    "except will be helpful to handle any exception/error occured in the try clause\n",
    "\n",
    "by using the try and except one can save a programme from crashing if it encounters an error"
   ]
  }
 ],
 "metadata": {
  "kernelspec": {
   "display_name": "Python 3",
   "language": "python",
   "name": "python3"
  },
  "language_info": {
   "codemirror_mode": {
    "name": "ipython",
    "version": 3
   },
   "file_extension": ".py",
   "mimetype": "text/x-python",
   "name": "python",
   "nbconvert_exporter": "python",
   "pygments_lexer": "ipython3",
   "version": "3.8.5"
  }
 },
 "nbformat": 4,
 "nbformat_minor": 4
}
